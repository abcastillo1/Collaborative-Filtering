{
  "nbformat": 4,
  "nbformat_minor": 0,
  "metadata": {
    "colab": {
      "name": "Ejercicio -  Filtrado Colaborativo",
      "provenance": [],
      "collapsed_sections": []
    },
    "kernelspec": {
      "name": "python3",
      "display_name": "Python 3"
    },
    "language_info": {
      "name": "python"
    }
  },
  "cells": [
    {
      "cell_type": "markdown",
      "source": [
        "#Sistemas de recomendación y Filtrado Colaborativo"
      ],
      "metadata": {
        "id": "ZRt0yrfPf6nc"
      }
    },
    {
      "cell_type": "markdown",
      "source": [
        "Importar las librerías necesarias para realizar el las operaciones de filtrado colaborativo."
      ],
      "metadata": {
        "id": "T_vRL7HdhQ0y"
      }
    },
    {
      "cell_type": "code",
      "source": [
        "import pandas as pd\n",
        "import numpy as np\n",
        "\n",
        "from sklearn.metrics.pairwise import cosine_similarity\n",
        "from scipy.sparse import csr_matrix\n",
        "from scipy.sparse.linalg import svds\n",
        "\n",
        "!pip install surprise\n",
        "from surprise import KNNWithMeans, Dataset, accuracy, Reader\n",
        "from surprise.model_selection import train_test_split"
      ],
      "metadata": {
        "id": "WDWHR7Rpf8Zy",
        "colab": {
          "base_uri": "https://localhost:8080/"
        },
        "outputId": "d9395988-442e-48e0-f3a8-07dd5df6e4ce"
      },
      "execution_count": 4,
      "outputs": [
        {
          "output_type": "stream",
          "name": "stdout",
          "text": [
            "Collecting surprise\n",
            "  Downloading surprise-0.1-py2.py3-none-any.whl (1.8 kB)\n",
            "Collecting scikit-surprise\n",
            "  Downloading scikit-surprise-1.1.1.tar.gz (11.8 MB)\n",
            "\u001b[K     |████████████████████████████████| 11.8 MB 6.9 MB/s \n",
            "\u001b[?25hRequirement already satisfied: joblib>=0.11 in /usr/local/lib/python3.7/dist-packages (from scikit-surprise->surprise) (1.1.0)\n",
            "Requirement already satisfied: numpy>=1.11.2 in /usr/local/lib/python3.7/dist-packages (from scikit-surprise->surprise) (1.19.5)\n",
            "Requirement already satisfied: scipy>=1.0.0 in /usr/local/lib/python3.7/dist-packages (from scikit-surprise->surprise) (1.4.1)\n",
            "Requirement already satisfied: six>=1.10.0 in /usr/local/lib/python3.7/dist-packages (from scikit-surprise->surprise) (1.15.0)\n",
            "Building wheels for collected packages: scikit-surprise\n",
            "  Building wheel for scikit-surprise (setup.py) ... \u001b[?25l\u001b[?25hdone\n",
            "  Created wheel for scikit-surprise: filename=scikit_surprise-1.1.1-cp37-cp37m-linux_x86_64.whl size=1623221 sha256=3b6272b79e5e52aea426fc2ac1993b67e1d605a6f003e1fc7d7ddab69cd933a8\n",
            "  Stored in directory: /root/.cache/pip/wheels/76/44/74/b498c42be47b2406bd27994e16c5188e337c657025ab400c1c\n",
            "Successfully built scikit-surprise\n",
            "Installing collected packages: scikit-surprise, surprise\n",
            "Successfully installed scikit-surprise-1.1.1 surprise-0.1\n"
          ]
        }
      ]
    },
    {
      "cell_type": "markdown",
      "source": [
        "## Método 1"
      ],
      "metadata": {
        "id": "RXIyAZllUnaW"
      }
    },
    {
      "cell_type": "markdown",
      "source": [
        "Esta función normalizará la entrada pred_ratings parámetros:\n",
        "  pred_ratings (calificaciones de predicción)\n",
        "\n"
      ],
      "metadata": {
        "id": "9VsiTcnWhR-A"
      }
    },
    {
      "cell_type": "code",
      "source": [
        "def normalize(pred_ratings):\n",
        "  return (pred_ratings - pred_ratings.min()) / (pred_ratings.max() - pred_ratings.min())"
      ],
      "metadata": {
        "id": "7s2ZOHBITEsX"
      },
      "execution_count": 5,
      "outputs": []
    },
    {
      "cell_type": "markdown",
      "source": [
        "Esta función calculará la descomposición de valor único de la matriz de entrada\n",
        "  dados n_factores. Luego generará y normalizará las predicciones de calificación de los usuarios.\n",
        "\n",
        "  **Parámetros:**\n",
        "\n",
        "*   **mat (CSR Matrix)**: matriz scipy csr correspondiente a la tabla dinámica (pt_df) \n",
        "*   **pt_df (DataFrame)**: marco de datos de pandas que es una tabla dinámica\n",
        "*   **n_factors (Integer)** : Número de valores singulares y vectores a calcular.\n",
        "\n",
        "\n",
        "Debe ser 1<= n_factors < min(mat.shape)."
      ],
      "metadata": {
        "id": "M7uG-drChS_I"
      }
    },
    {
      "cell_type": "code",
      "source": [
        "def generate_prediction_df(mat, pt_df, n_factors):\n",
        "\n",
        "  if not 1 <= n_factors < min(mat.shape):\n",
        "   raise ValueError(\"Must be 1 <= n_factors < min(mat.shape)\")\n",
        "  \n",
        "  # Factorización de matrices\n",
        "  u, s, v = svds(mat, k = n_factors)\n",
        "  s = np.diag(s)\n",
        "\n",
        "  # Calcular las calificaciones de pred\n",
        "  pred_ratings = np.dot(np.dot(u, s), v)\n",
        "  pred_ratings = normalize(pred_ratings)\n",
        "\n",
        "  # convertir a df\n",
        "  pred_df = pd.DataFrame(pred_ratings,columns = pt_df.columns, index = list(pt_df.index)).transpose()\n",
        "\n",
        "  return pred_df"
      ],
      "metadata": {
        "id": "fMTB2cD2TIWI"
      },
      "execution_count": 6,
      "outputs": []
    },
    {
      "cell_type": "markdown",
      "source": [
        "Dado un usr_id y pred_df, esta función recomendará elementos al usuario.\n",
        "     \n",
        "**Parámetros:**\n",
        "      \n",
        "*   **pred_df (DataFrame)**: generado a partir de la función generate_prediction_df\n",
        "*   **usr_id (Integer)** : El usuario para el que desea obtener recomendaciones de artículos\n",
        "*   **n_recs (Integer)** : El número de recomendaciones que desea para este usuario\n",
        "\n"
      ],
      "metadata": {
        "id": "SuMrlXuPhT2h"
      }
    },
    {
      "cell_type": "code",
      "source": [
        "def recommend_items(pred_df, usr_id, n_recs):\n",
        "\n",
        "  usr_pred = pred_df[usr_id].sort_values(ascending = False).reset_index().rename(columns = {usr_id : 'sim'})\n",
        "  rec_df = usr_pred.sort_values(by = 'sim', ascending = False).head(n_recs)\n",
        "  return rec_df"
      ],
      "metadata": {
        "id": "N_DremMtapWh"
      },
      "execution_count": 7,
      "outputs": []
    },
    {
      "cell_type": "code",
      "source": [
        "if __name__ == '__main__':\n",
        "  # constantes\n",
        "  PATH = 'data.csv'\n",
        "  #importar datos\n",
        "  df = pd.read_csv(PATH)\n",
        "  print(df.shape)\n",
        "  # generar una tabla dinámica con lectores en el índice y libros en la columna y los valores sean las calificaciones\n",
        "  pt_df = df.pivot_table(columns = 'book_id',index = 'reader_id', values = 'book_rating').fillna(0)\n",
        "  # convertir a una matriz csr\n",
        "  mat = pt_df.values\n",
        "  mat = csr_matrix(mat)\n",
        "  pred_df = generate_prediction_df(mat, pt_df, 10)\n",
        "  # generar recomendaciones\n",
        "  print(recommend_items(pred_df, 1000, 10))"
      ],
      "metadata": {
        "colab": {
          "base_uri": "https://localhost:8080/"
        },
        "id": "3XdlNPr3aw1-",
        "outputId": "24ff6730-a612-4090-aa11-ee843a989d2e"
      },
      "execution_count": 8,
      "outputs": [
        {
          "output_type": "stream",
          "name": "stdout",
          "text": [
            "(100000, 10)\n",
            "   book_id       sim\n",
            "0     1341  0.153466\n",
            "1     1516  0.148940\n",
            "2     1839  0.147120\n",
            "3     1108  0.145674\n",
            "4     1025  0.145550\n",
            "5     1824  0.145522\n",
            "6       60  0.144977\n",
            "7     2881  0.144857\n",
            "8     1208  0.144673\n",
            "9     1897  0.144514\n"
          ]
        }
      ]
    },
    {
      "cell_type": "markdown",
      "source": [
        "## Método 2"
      ],
      "metadata": {
        "id": "fsOXFD_5UL_8"
      }
    },
    {
      "cell_type": "code",
      "source": [
        "pt_df = df.pivot_table(\n",
        "    columns = 'book_id', \n",
        "    index = 'author_id', \n",
        "    values = 'book_rating'\n",
        ").fillna(0)"
      ],
      "metadata": {
        "id": "8WcfLVVhUKYm"
      },
      "execution_count": 18,
      "outputs": []
    },
    {
      "cell_type": "markdown",
      "source": [
        "Esta función encontrará lectores similares al lector_id que se indica como parámetro"
      ],
      "metadata": {
        "id": "aIwN0u4UXfWv"
      }
    },
    {
      "cell_type": "code",
      "source": [
        "def find_similar_readers(pt_df, reader_id, n_recs):\n",
        "    '''\n",
        "    This function will find similar readers to the user specified reader_id\n",
        "    '''\n",
        "    \n",
        "    # lector separado de interés y todos los demás lectores\n",
        "    reader = pt_df[pt_df.index == reader_id]\n",
        "    other_readers = pt_df[pt_df.index != reader_id]\n",
        "\n",
        "    # obtener la similitud del lector actual y todos los demás lectores\n",
        "    sim = cosine_similarity(reader, other_readers)[0].tolist()\n",
        "    idx = other_readers.index.tolist()\n",
        "\n",
        "    # crear un diccionario de similitud para este usuario con todos los demás usuarios\n",
        "    idx_sim = dict(zip(idx, sim))\n",
        "    idx_sim = sorted(idx_sim.items(), key=lambda x: x[1], reverse=True)\n",
        "\n",
        "    similar_readers = idx_sim[:n_recs]\n",
        "    readers = [rdr[0] for rdr in similar_readers]\n",
        "\n",
        "    return readers"
      ],
      "metadata": {
        "id": "DPWJGcgfUzHF"
      },
      "execution_count": 19,
      "outputs": []
    },
    {
      "cell_type": "code",
      "source": [
        "find_similar_readers(pt_df = pt_df, reader_id = 226, n_recs = 5)"
      ],
      "metadata": {
        "colab": {
          "base_uri": "https://localhost:8080/"
        },
        "id": "fCMG-nIaU1GM",
        "outputId": "e25c4bd7-fb27-4fe1-83fe-57885deb3eac"
      },
      "execution_count": 20,
      "outputs": [
        {
          "output_type": "execute_result",
          "data": {
            "text/plain": [
              "[319, 191, 145, 162, 212]"
            ]
          },
          "metadata": {},
          "execution_count": 20
        }
      ]
    },
    {
      "cell_type": "markdown",
      "source": [
        "## Método 3"
      ],
      "metadata": {
        "id": "Vfmas94MUsh8"
      }
    },
    {
      "cell_type": "code",
      "source": [
        "rdf = df[['reader_id', 'book_id', 'book_rating']]"
      ],
      "metadata": {
        "id": "4d3tJMjqWEWl"
      },
      "execution_count": 21,
      "outputs": []
    },
    {
      "cell_type": "code",
      "source": [
        "#Leer el conjunto de datos\n",
        "reader = Reader(rating_scale=(1, 5))\n",
        "data = Dataset.load_from_df(rdf, reader)"
      ],
      "metadata": {
        "id": "WWuvF1VkWGMt"
      },
      "execution_count": 22,
      "outputs": []
    },
    {
      "cell_type": "code",
      "source": [
        "# Dividir el conjunto de datos\n",
        "trainset, testset = train_test_split(data, test_size=0.3,random_state=10)"
      ],
      "metadata": {
        "id": "oBgZbwBNWHfW"
      },
      "execution_count": 23,
      "outputs": []
    },
    {
      "cell_type": "code",
      "source": [
        "# Usar verdadero/falso basado en el usuario para cambiar entre filtrado colaborativo basado en usuario o basado en elementos\n",
        "algo = KNNWithMeans(k=5, sim_options={'name': 'pearson_baseline', 'user_based': False})\n",
        "algo.fit(trainset)"
      ],
      "metadata": {
        "colab": {
          "base_uri": "https://localhost:8080/"
        },
        "id": "yiB8wIIDWLFN",
        "outputId": "d57db0fa-6ec8-4a6f-9230-7ba616b97e62"
      },
      "execution_count": 25,
      "outputs": [
        {
          "output_type": "stream",
          "name": "stdout",
          "text": [
            "Estimating biases using als...\n",
            "Computing the pearson_baseline similarity matrix...\n",
            "Done computing similarity matrix.\n"
          ]
        },
        {
          "output_type": "execute_result",
          "data": {
            "text/plain": [
              "<surprise.prediction_algorithms.knns.KNNWithMeans at 0x7f2037d9a4d0>"
            ]
          },
          "metadata": {},
          "execution_count": 25
        }
      ]
    },
    {
      "cell_type": "code",
      "source": [
        "# ejecutar el modelo entrenado contra el conjunto de pruebas\n",
        "test_pred = algo.test(testset)"
      ],
      "metadata": {
        "id": "1fkqodMfWMy2"
      },
      "execution_count": 26,
      "outputs": []
    },
    {
      "cell_type": "code",
      "source": [
        "# obtener RMSE\n",
        "accuracy.rmse(test_pred, verbose=True)"
      ],
      "metadata": {
        "id": "xia2xZQGWP7N"
      },
      "execution_count": null,
      "outputs": []
    },
    {
      "cell_type": "code",
      "source": [
        "algo.predict(uid = 10, iid = 43)"
      ],
      "metadata": {
        "colab": {
          "base_uri": "https://localhost:8080/"
        },
        "id": "w5Bae5RLWRKt",
        "outputId": "57568374-e64f-4830-ec21-c92451886099"
      },
      "execution_count": 27,
      "outputs": [
        {
          "output_type": "execute_result",
          "data": {
            "text/plain": [
              "Prediction(uid=10, iid=43, r_ui=None, est=5, details={'actual_k': 0, 'was_impossible': False})"
            ]
          },
          "metadata": {},
          "execution_count": 27
        }
      ]
    }
  ]
}